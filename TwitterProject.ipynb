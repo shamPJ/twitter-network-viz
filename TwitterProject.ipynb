{
 "cells": [
  {
   "cell_type": "markdown",
   "id": "4105d71e",
   "metadata": {},
   "source": [
    "https://henryfeng.medium.com/expand-twitter-follower-network-for-ngo-with-python-tweepy-package-a731e11195f0\n",
    "\n",
    "\n",
    "https://stackoverflow.com/questions/31000178/how-to-get-large-list-of-followers-tweepy\n",
    "\n",
    "https://developer.twitter.com/en/docs/twitter-api/v1/data-dictionary/object-model/user"
   ]
  },
  {
   "cell_type": "markdown",
   "id": "96b969f5",
   "metadata": {},
   "source": [
    "## Generate the list of accounts’ followers"
   ]
  },
  {
   "cell_type": "code",
   "execution_count": 1,
   "id": "1ae916e4",
   "metadata": {},
   "outputs": [],
   "source": [
    "import tweepy\n",
    "import json\n",
    "import time\n",
    "import pandas as pd\n",
    "import networkx as nx\n",
    "from pyvis.network import Network"
   ]
  },
  {
   "cell_type": "code",
   "execution_count": 2,
   "id": "6ef1ba64",
   "metadata": {},
   "outputs": [
    {
     "data": {
      "text/plain": [
       "'4.8.0'"
      ]
     },
     "execution_count": 2,
     "metadata": {},
     "output_type": "execute_result"
    }
   ],
   "source": [
    "tweepy.__version__"
   ]
  },
  {
   "cell_type": "code",
   "execution_count": 3,
   "id": "81aad5e3",
   "metadata": {},
   "outputs": [],
   "source": [
    "C_KEY = ''\n",
    "C_SECRET = ''\n",
    "A_TOKEN = ''\n",
    "A_TOKEN_SECRET = ''"
   ]
  },
  {
   "cell_type": "code",
   "execution_count": 4,
   "id": "e383ffe4",
   "metadata": {},
   "outputs": [],
   "source": [
    "auth = tweepy.OAuthHandler(C_KEY, C_SECRET)\n",
    "auth.set_access_token(A_TOKEN, A_TOKEN_SECRET)"
   ]
  },
  {
   "cell_type": "code",
   "execution_count": 5,
   "id": "e8a8e887",
   "metadata": {},
   "outputs": [],
   "source": [
    "account1 = \"AaltoUniversity\"\n",
    "account2 = \"helsinkiuni\""
   ]
  },
  {
   "cell_type": "code",
   "execution_count": 6,
   "id": "05a5924a",
   "metadata": {},
   "outputs": [
    {
     "data": {
      "text/plain": [
       "('AaltoUniversity', 'helsinkiuni')"
      ]
     },
     "execution_count": 6,
     "metadata": {},
     "output_type": "execute_result"
    }
   ],
   "source": [
    "\"AaltoUniversity\", \"helsinkiuni\""
   ]
  },
  {
   "cell_type": "code",
   "execution_count": 7,
   "id": "bc50a667",
   "metadata": {},
   "outputs": [],
   "source": [
    "# Set wait_on_rate_limit to True while connecting through Tweepy\n",
    "api = tweepy.API(auth, wait_on_rate_limit=True)"
   ]
  },
  {
   "cell_type": "code",
   "execution_count": 32,
   "id": "5bb9b650",
   "metadata": {},
   "outputs": [],
   "source": [
    "def get_userids(account, id_type = 'user_id'):\n",
    "    # Get user ids as a list\n",
    "    # request for 5000 follower ids in one request --> 75K ids in every 15 minute window\n",
    "    print(account, id_type)\n",
    "    userids =[]\n",
    "    if id_type=='screen_name':\n",
    "        for user in tweepy.Cursor(api.get_follower_ids, screen_name=account, count=5000).items():\n",
    "            userids.append(user)  \n",
    "    elif id_type=='user_id':\n",
    "        for user in tweepy.Cursor(api.get_follower_ids, user_id=account, count=5000).items():\n",
    "            userids.append(user) \n",
    "    return userids"
   ]
  },
  {
   "cell_type": "code",
   "execution_count": 35,
   "id": "8d0b65ec",
   "metadata": {},
   "outputs": [
    {
     "data": {
      "text/plain": [
       "User(_api=<tweepy.api.API object at 0x7f954d413950>, _json={'id': 168607383, 'id_str': '168607383', 'name': 'University of Helsinki', 'screen_name': 'helsinkiuni', 'location': 'Helsinki, Finland', 'profile_location': None, 'description': 'University of Helsinki - Helsingin yliopisto is Finland’s largest, oldest and internationally most esteemed research university. #HelsinkiUni #WeAreHelsinkiUni', 'url': 'https://t.co/mZODiLVf4n', 'entities': {'url': {'urls': [{'url': 'https://t.co/mZODiLVf4n', 'expanded_url': 'http://www.helsinki.fi', 'display_url': 'helsinki.fi', 'indices': [0, 23]}]}, 'description': {'urls': []}}, 'protected': False, 'followers_count': 53437, 'friends_count': 2467, 'listed_count': 437, 'created_at': 'Tue Jul 20 10:12:30 +0000 2010', 'favourites_count': 31974, 'utc_offset': None, 'time_zone': None, 'geo_enabled': True, 'verified': True, 'statuses_count': 18686, 'lang': None, 'status': {'created_at': 'Tue May 03 16:00:01 +0000 2022', 'id': 1521519960522174467, 'id_str': '1521519960522174467', 'text': 'Trust in mainstream media is weakening also in Finland. The growing distrust is connected to the rise of populism,… https://t.co/FZi9ET3skO', 'truncated': True, 'entities': {'hashtags': [], 'symbols': [], 'user_mentions': [], 'urls': [{'url': 'https://t.co/FZi9ET3skO', 'expanded_url': 'https://twitter.com/i/web/status/1521519960522174467', 'display_url': 'twitter.com/i/web/status/1…', 'indices': [116, 139]}]}, 'source': '<a href=\"http://www.falcon.io\" rel=\"nofollow\">Falcon Social Media Management </a>', 'in_reply_to_status_id': None, 'in_reply_to_status_id_str': None, 'in_reply_to_user_id': None, 'in_reply_to_user_id_str': None, 'in_reply_to_screen_name': None, 'geo': None, 'coordinates': None, 'place': None, 'contributors': None, 'is_quote_status': False, 'retweet_count': 0, 'favorite_count': 2, 'favorited': False, 'retweeted': False, 'possibly_sensitive': False, 'lang': 'en'}, 'contributors_enabled': False, 'is_translator': False, 'is_translation_enabled': False, 'profile_background_color': '222222', 'profile_background_image_url': 'http://abs.twimg.com/images/themes/theme1/bg.png', 'profile_background_image_url_https': 'https://abs.twimg.com/images/themes/theme1/bg.png', 'profile_background_tile': False, 'profile_image_url': 'http://pbs.twimg.com/profile_images/851407702769250304/dA8NaETZ_normal.jpg', 'profile_image_url_https': 'https://pbs.twimg.com/profile_images/851407702769250304/dA8NaETZ_normal.jpg', 'profile_banner_url': 'https://pbs.twimg.com/profile_banners/168607383/1646295385', 'profile_link_color': '2B96CF', 'profile_sidebar_border_color': '000000', 'profile_sidebar_fill_color': 'FFFFFF', 'profile_text_color': '1C1F23', 'profile_use_background_image': False, 'has_extended_profile': False, 'default_profile': False, 'default_profile_image': False, 'following': False, 'follow_request_sent': False, 'notifications': False, 'translator_type': 'none', 'withheld_in_countries': []}, id=168607383, id_str='168607383', name='University of Helsinki', screen_name='helsinkiuni', location='Helsinki, Finland', profile_location=None, description='University of Helsinki - Helsingin yliopisto is Finland’s largest, oldest and internationally most esteemed research university. #HelsinkiUni #WeAreHelsinkiUni', url='https://t.co/mZODiLVf4n', entities={'url': {'urls': [{'url': 'https://t.co/mZODiLVf4n', 'expanded_url': 'http://www.helsinki.fi', 'display_url': 'helsinki.fi', 'indices': [0, 23]}]}, 'description': {'urls': []}}, protected=False, followers_count=53437, friends_count=2467, listed_count=437, created_at=datetime.datetime(2010, 7, 20, 10, 12, 30, tzinfo=datetime.timezone.utc), favourites_count=31974, utc_offset=None, time_zone=None, geo_enabled=True, verified=True, statuses_count=18686, lang=None, status=Status(_api=<tweepy.api.API object at 0x7f954d413950>, _json={'created_at': 'Tue May 03 16:00:01 +0000 2022', 'id': 1521519960522174467, 'id_str': '1521519960522174467', 'text': 'Trust in mainstream media is weakening also in Finland. The growing distrust is connected to the rise of populism,… https://t.co/FZi9ET3skO', 'truncated': True, 'entities': {'hashtags': [], 'symbols': [], 'user_mentions': [], 'urls': [{'url': 'https://t.co/FZi9ET3skO', 'expanded_url': 'https://twitter.com/i/web/status/1521519960522174467', 'display_url': 'twitter.com/i/web/status/1…', 'indices': [116, 139]}]}, 'source': '<a href=\"http://www.falcon.io\" rel=\"nofollow\">Falcon Social Media Management </a>', 'in_reply_to_status_id': None, 'in_reply_to_status_id_str': None, 'in_reply_to_user_id': None, 'in_reply_to_user_id_str': None, 'in_reply_to_screen_name': None, 'geo': None, 'coordinates': None, 'place': None, 'contributors': None, 'is_quote_status': False, 'retweet_count': 0, 'favorite_count': 2, 'favorited': False, 'retweeted': False, 'possibly_sensitive': False, 'lang': 'en'}, created_at=datetime.datetime(2022, 5, 3, 16, 0, 1, tzinfo=datetime.timezone.utc), id=1521519960522174467, id_str='1521519960522174467', text='Trust in mainstream media is weakening also in Finland. The growing distrust is connected to the rise of populism,… https://t.co/FZi9ET3skO', truncated=True, entities={'hashtags': [], 'symbols': [], 'user_mentions': [], 'urls': [{'url': 'https://t.co/FZi9ET3skO', 'expanded_url': 'https://twitter.com/i/web/status/1521519960522174467', 'display_url': 'twitter.com/i/web/status/1…', 'indices': [116, 139]}]}, source='Falcon Social Media Management ', source_url='http://www.falcon.io', in_reply_to_status_id=None, in_reply_to_status_id_str=None, in_reply_to_user_id=None, in_reply_to_user_id_str=None, in_reply_to_screen_name=None, geo=None, coordinates=None, place=None, contributors=None, is_quote_status=False, retweet_count=0, favorite_count=2, favorited=False, retweeted=False, possibly_sensitive=False, lang='en'), contributors_enabled=False, is_translator=False, is_translation_enabled=False, profile_background_color='222222', profile_background_image_url='http://abs.twimg.com/images/themes/theme1/bg.png', profile_background_image_url_https='https://abs.twimg.com/images/themes/theme1/bg.png', profile_background_tile=False, profile_image_url='http://pbs.twimg.com/profile_images/851407702769250304/dA8NaETZ_normal.jpg', profile_image_url_https='https://pbs.twimg.com/profile_images/851407702769250304/dA8NaETZ_normal.jpg', profile_banner_url='https://pbs.twimg.com/profile_banners/168607383/1646295385', profile_link_color='2B96CF', profile_sidebar_border_color='000000', profile_sidebar_fill_color='FFFFFF', profile_text_color='1C1F23', profile_use_background_image=False, has_extended_profile=False, default_profile=False, default_profile_image=False, following=False, follow_request_sent=False, notifications=False, translator_type='none', withheld_in_countries=[])"
      ]
     },
     "execution_count": 35,
     "metadata": {},
     "output_type": "execute_result"
    }
   ],
   "source": [
    "api.get_user(screen_name=\"helsinkiuni\")"
   ]
  },
  {
   "cell_type": "code",
   "execution_count": 10,
   "id": "ccc96a97",
   "metadata": {},
   "outputs": [],
   "source": [
    "def get_userids(account, api):\n",
    "    # Get user ids\n",
    "    # request for 5000 follower ids in one request --> 75K ids in every 15 minute window\n",
    "    \n",
    "    userids =[]\n",
    "    for user in tweepy.Cursor(api.get_follower_ids, screen_name=account, count=5000).items():\n",
    "        userids.append(user) \n",
    "    return userids\n",
    "    \n",
    "def get_usernames(userids, api):\n",
    "    \n",
    "    # The limit for the users/lookup endpoint is 90000 users per 15 minute window \n",
    "    # (900 requests x 100 users per request)\n",
    "    fullusers = []\n",
    "    u_count = len(userids)\n",
    "    print(u_count)\n",
    "    try:\n",
    "        for i in range(int(u_count/100) + 1):            \n",
    "            end_loc = min((i + 1) * 100, u_count)\n",
    "            fullusers.extend(\n",
    "                api.lookup_users(user_id=userids[i * 100:end_loc])                \n",
    "            )\n",
    "        return fullusers\n",
    "    except:\n",
    "        import traceback\n",
    "        traceback.print_exc()\n",
    "        print ('Something went wrong, quitting...')"
   ]
  },
  {
   "cell_type": "code",
   "execution_count": 8,
   "id": "6cb255eb",
   "metadata": {},
   "outputs": [
    {
     "name": "stdout",
     "output_type": "stream",
     "text": [
      "CPU times: user 3 µs, sys: 1 µs, total: 4 µs\n",
      "Wall time: 6.2 µs\n"
     ]
    }
   ],
   "source": [
    "%%time\n",
    "\n",
    "# # fetch ids of account followers\n",
    "\n",
    "# userids_Aalto  = get_userids(account1, api)\n",
    "# userids_UniHel = get_userids(account2, api)"
   ]
  },
  {
   "cell_type": "code",
   "execution_count": 9,
   "id": "30228c46",
   "metadata": {},
   "outputs": [],
   "source": [
    "# # create a df \n",
    "\n",
    "# userids = list(set(userids_Aalto + userids_UniHel))\n",
    "\n",
    "# df = pd.DataFrame(userids, columns=['userids'])\n",
    "# df.head()\n",
    "\n",
    "\n",
    "# df['Aalto'] = 0\n",
    "# df['UniHel'] = 0\n",
    "\n",
    "# df['Aalto'] = df['userids'].isin(userids_Aalto).astype(int)\n",
    "# df['UniHel'] = df['userids'].isin(userids_UniHel).astype(int)\n",
    "# df.head()"
   ]
  },
  {
   "cell_type": "code",
   "execution_count": 10,
   "id": "ad9ef4a8",
   "metadata": {},
   "outputs": [],
   "source": [
    "# df.to_csv(\"userids.csv\", sep='\\t', index=False)"
   ]
  },
  {
   "cell_type": "code",
   "execution_count": 17,
   "id": "3ca6dea2",
   "metadata": {},
   "outputs": [
    {
     "data": {
      "text/html": [
       "<div>\n",
       "<style scoped>\n",
       "    .dataframe tbody tr th:only-of-type {\n",
       "        vertical-align: middle;\n",
       "    }\n",
       "\n",
       "    .dataframe tbody tr th {\n",
       "        vertical-align: top;\n",
       "    }\n",
       "\n",
       "    .dataframe thead th {\n",
       "        text-align: right;\n",
       "    }\n",
       "</style>\n",
       "<table border=\"1\" class=\"dataframe\">\n",
       "  <thead>\n",
       "    <tr style=\"text-align: right;\">\n",
       "      <th></th>\n",
       "      <th>Unnamed: 0</th>\n",
       "      <th>userids</th>\n",
       "      <th>Aalto</th>\n",
       "      <th>UniHel</th>\n",
       "    </tr>\n",
       "  </thead>\n",
       "  <tbody>\n",
       "    <tr>\n",
       "      <th>0</th>\n",
       "      <td>0</td>\n",
       "      <td>1294684866747957248</td>\n",
       "      <td>1</td>\n",
       "      <td>1</td>\n",
       "    </tr>\n",
       "    <tr>\n",
       "      <th>1</th>\n",
       "      <td>1</td>\n",
       "      <td>950777123769286656</td>\n",
       "      <td>1</td>\n",
       "      <td>0</td>\n",
       "    </tr>\n",
       "    <tr>\n",
       "      <th>2</th>\n",
       "      <td>2</td>\n",
       "      <td>714929181289742336</td>\n",
       "      <td>1</td>\n",
       "      <td>1</td>\n",
       "    </tr>\n",
       "    <tr>\n",
       "      <th>3</th>\n",
       "      <td>3</td>\n",
       "      <td>785480415813435392</td>\n",
       "      <td>1</td>\n",
       "      <td>1</td>\n",
       "    </tr>\n",
       "    <tr>\n",
       "      <th>4</th>\n",
       "      <td>4</td>\n",
       "      <td>923477420828655616</td>\n",
       "      <td>1</td>\n",
       "      <td>0</td>\n",
       "    </tr>\n",
       "  </tbody>\n",
       "</table>\n",
       "</div>"
      ],
      "text/plain": [
       "   Unnamed: 0              userids  Aalto  UniHel\n",
       "0           0  1294684866747957248      1       1\n",
       "1           1   950777123769286656      1       0\n",
       "2           2   714929181289742336      1       1\n",
       "3           3   785480415813435392      1       1\n",
       "4           4   923477420828655616      1       0"
      ]
     },
     "execution_count": 17,
     "metadata": {},
     "output_type": "execute_result"
    }
   ],
   "source": [
    "# read in saved df\n",
    "\n",
    "df = pd.read_csv(\"userids.csv\", sep='\\t')\n",
    "df.head()"
   ]
  },
  {
   "cell_type": "code",
   "execution_count": null,
   "id": "a0ac2933",
   "metadata": {},
   "outputs": [],
   "source": [
    "# get followers of each user\n",
    "\n",
    "for i in range(6,7):\n",
    "    followers = {}\n",
    "    for user in userids[i*100:i*100+100]:\n",
    "        print(user)\n",
    "        followers_id = api.get_follower_ids(user_id=user)\n",
    "        followers[user]=followers_id\n",
    "    # save followers\n",
    "    \n",
    "    name = 'followers' + str(i+1) + 'json'\n",
    "    with open('followers2.json', 'w') as fp:\n",
    "        json.dump(followers, fp)"
   ]
  },
  {
   "cell_type": "code",
   "execution_count": null,
   "id": "3cb959b0",
   "metadata": {
    "scrolled": true
   },
   "outputs": [],
   "source": [
    "# get followers of each user\n",
    "\n",
    "for i in range(5,6):\n",
    "    followers = {}\n",
    "    for user in userids[i*100:i*100+100]:\n",
    "        print(user)\n",
    "        try:\n",
    "            followers_id = api.get_follower_ids(user_id=user)\n",
    "            followers[user]=followers_id\n",
    "        except:\n",
    "            pass\n",
    "    # save followers\n",
    "    \n",
    "    name = 'followers' + str(i+1) + 'json'\n",
    "    with open('followers2.json', 'w') as fp:\n",
    "        json.dump(followers, fp)"
   ]
  },
  {
   "cell_type": "code",
   "execution_count": null,
   "id": "c41a55e5",
   "metadata": {},
   "outputs": [],
   "source": [
    "# # save followers\n",
    "\n",
    "# with open('followers2.json', 'w') as fp:\n",
    "#     json.dump(followers, fp)"
   ]
  },
  {
   "cell_type": "code",
   "execution_count": 13,
   "id": "125127b7",
   "metadata": {},
   "outputs": [],
   "source": [
    "# open JSON file\n",
    "\n",
    "followers = {}\n",
    "for i in range(1,7):\n",
    "    name = 'followers' + str(i) + '.json'\n",
    "    with open(name) as json_file:\n",
    "        f = json.load(json_file)\n",
    "    followers.update(f)"
   ]
  },
  {
   "cell_type": "code",
   "execution_count": 14,
   "id": "43c3db86",
   "metadata": {},
   "outputs": [
    {
     "data": {
      "text/plain": [
       "445"
      ]
     },
     "execution_count": 14,
     "metadata": {},
     "output_type": "execute_result"
    }
   ],
   "source": [
    "len(followers)"
   ]
  },
  {
   "cell_type": "code",
   "execution_count": 15,
   "id": "f80a73e7",
   "metadata": {},
   "outputs": [
    {
     "data": {
      "text/plain": [
       "78363"
      ]
     },
     "execution_count": 15,
     "metadata": {},
     "output_type": "execute_result"
    }
   ],
   "source": [
    "userids = list(df['userids'])\n",
    "len(userids)"
   ]
  },
  {
   "cell_type": "code",
   "execution_count": 16,
   "id": "abd0dba3",
   "metadata": {},
   "outputs": [
    {
     "name": "stdout",
     "output_type": "stream",
     "text": [
      "445\n"
     ]
    }
   ],
   "source": [
    "nodes = list(followers.keys())\n",
    "print(\"Number of nodes: \", len(nodes))\n",
    "\n",
    "# assign colors\n",
    "color_map = []\n",
    "\n",
    "for node in nodes:\n",
    "    if (df[df['userids']==int(node)].Aalto==1).values and (df[df['userids']==int(node)].UniHel==1).values:\n",
    "        color_map.append('#D85678')\n",
    "    elif (df[df['userids']==int(node)].Aalto==1).values:\n",
    "        color_map.append('#FFA500')\n",
    "    else:\n",
    "        color_map.append('#6495ed')"
   ]
  },
  {
   "cell_type": "code",
   "execution_count": 54,
   "id": "426276c6",
   "metadata": {},
   "outputs": [],
   "source": [
    "G = nx.DiGraph()\n",
    "\n",
    "for i, node in enumerate(nodes):\n",
    "    G.add_node(node, color=color_map[i])"
   ]
  },
  {
   "cell_type": "code",
   "execution_count": 55,
   "id": "496294b8",
   "metadata": {},
   "outputs": [],
   "source": [
    "for node in nodes:\n",
    "    # nodes is a list of strings\n",
    "    # followers[node] returns list of ints\n",
    "    for follower in followers[node]:\n",
    "        if str(follower) in followers:\n",
    "            # iteration of followers returns keys, which are strings\n",
    "            # nodes in G are str\n",
    "            G.add_edge(node, str(follower))"
   ]
  },
  {
   "cell_type": "code",
   "execution_count": 56,
   "id": "7982b0fc",
   "metadata": {},
   "outputs": [
    {
     "data": {
      "text/plain": [
       "(445, 206)"
      ]
     },
     "execution_count": 56,
     "metadata": {},
     "output_type": "execute_result"
    }
   ],
   "source": [
    "G.number_of_nodes(), G.number_of_edges()"
   ]
  },
  {
   "cell_type": "code",
   "execution_count": 57,
   "id": "930ed6e6",
   "metadata": {},
   "outputs": [],
   "source": [
    "G.remove_nodes_from(list(nx.isolates(G)))"
   ]
  },
  {
   "cell_type": "code",
   "execution_count": 58,
   "id": "12414876",
   "metadata": {},
   "outputs": [
    {
     "data": {
      "text/plain": [
       "(122, 206)"
      ]
     },
     "execution_count": 58,
     "metadata": {},
     "output_type": "execute_result"
    }
   ],
   "source": [
    "G.number_of_nodes(), G.number_of_edges()"
   ]
  },
  {
   "cell_type": "markdown",
   "id": "fbcb4641",
   "metadata": {},
   "source": [
    "### Add nodes for account 1 and 2 (those which we are comparing)"
   ]
  },
  {
   "cell_type": "code",
   "execution_count": 79,
   "id": "261dd995",
   "metadata": {},
   "outputs": [],
   "source": [
    "net = Network(height='800px', width='100%', directed=True, notebook=True)\n",
    "\n",
    "net.add_node(account1, size=20, color='#f54242', label=\"Aalto\", font='30px arial black')\n",
    "net.add_node(account2, size=20, color='#427ef5', label=\"Uni of Helsinki\", font='30px arial black')\n",
    "\n",
    "for n in G.nodes:\n",
    "    color = G.nodes[n]['color']\n",
    "    net.add_node(n, size=20, color=color)\n",
    "    if G.nodes[n]['color'] == '#D85678':\n",
    "        net.add_edge(n, account1)\n",
    "        net.add_edge(n, account2)\n",
    "    elif  G.nodes[n]['color'] == '#FFA500':\n",
    "        net.add_edge(n, account1)\n",
    "    else:\n",
    "        net.add_edge(n, account2)\n",
    "        \n",
    "for n1,n2, attrs in G.edges.data():\n",
    "    net.add_edge(n1, n2)"
   ]
  },
  {
   "cell_type": "code",
   "execution_count": 80,
   "id": "8c42c455",
   "metadata": {},
   "outputs": [
    {
     "data": {
      "text/html": [
       "\n",
       "        <iframe\n",
       "            width=\"100%\"\n",
       "            height=\"800px\"\n",
       "            src=\"graph.html\"\n",
       "            frameborder=\"0\"\n",
       "            allowfullscreen\n",
       "            \n",
       "        ></iframe>\n",
       "        "
      ],
      "text/plain": [
       "<IPython.lib.display.IFrame at 0x7fac8f5401d0>"
      ]
     },
     "execution_count": 80,
     "metadata": {},
     "output_type": "execute_result"
    }
   ],
   "source": [
    "net.toggle_physics(True)\n",
    "# net.show_buttons()\n",
    "# net.show('mygraph.html')\n",
    "\n",
    "net.show_buttons(filter_=['physics'])\n",
    "net.show('graph.html')"
   ]
  },
  {
   "cell_type": "code",
   "execution_count": null,
   "id": "5e0b8de6",
   "metadata": {},
   "outputs": [],
   "source": [
    "nodes = list(G.nodes)"
   ]
  },
  {
   "cell_type": "code",
   "execution_count": null,
   "id": "f9be9098",
   "metadata": {},
   "outputs": [],
   "source": [
    "len(nodes), type(nodes[0]), nodes[0]"
   ]
  },
  {
   "cell_type": "code",
   "execution_count": null,
   "id": "06924a8d",
   "metadata": {},
   "outputs": [],
   "source": [
    "# get info about each user\n",
    "\n",
    "img = []\n",
    "screen_name = []\n",
    "for node in nodes:\n",
    "    info = api.lookup_users(user_id=[int(node)])\n",
    "    img.append(info[0].profile_image_url_https)\n",
    "    screen_name.append(info[0].screen_name)"
   ]
  },
  {
   "cell_type": "code",
   "execution_count": null,
   "id": "da3d37e4",
   "metadata": {},
   "outputs": [],
   "source": [
    "len(img), len(screen_name)"
   ]
  },
  {
   "cell_type": "code",
   "execution_count": null,
   "id": "64abef38",
   "metadata": {},
   "outputs": [],
   "source": [
    "G = nx.DiGraph()\n",
    "\n",
    "for i, node in enumerate(nodes):\n",
    "    G.add_node(node, color=color_map[i], image=img[i], label=screen_name[i])"
   ]
  },
  {
   "cell_type": "code",
   "execution_count": null,
   "id": "b9c41d0f",
   "metadata": {},
   "outputs": [],
   "source": [
    "for node in nodes:\n",
    "    # nodes is a list of strings\n",
    "    # followers[node] returns list of ints\n",
    "    for follower in followers[node]:\n",
    "        if str(follower) in followers:\n",
    "            # iteration of followers returns keys, which are strings\n",
    "            # nodes in G are str\n",
    "            G.add_edge(node, str(follower))"
   ]
  },
  {
   "cell_type": "code",
   "execution_count": null,
   "id": "2f3e3e84",
   "metadata": {},
   "outputs": [],
   "source": [
    "G.number_of_nodes(), G.number_of_edges()"
   ]
  },
  {
   "cell_type": "code",
   "execution_count": null,
   "id": "065756c1",
   "metadata": {},
   "outputs": [],
   "source": [
    "net = Network(height='800px', width='100%', directed=True, notebook=True)\n",
    "\n",
    "for i, node in enumerate(G.nodes):\n",
    "    net.add_node(node, color=color_map[i], image=img[i], label=screen_name[i], shape='image')\n",
    "    \n",
    "# for n in G.nodes:\n",
    "#     color = G.nodes[n]['color']\n",
    "#     net.add_node(n, color=color)\n",
    "for n1,n2, attrs in G.edges.data():\n",
    "    net.add_edge(n1, n2)"
   ]
  },
  {
   "cell_type": "code",
   "execution_count": null,
   "id": "29963322",
   "metadata": {},
   "outputs": [],
   "source": [
    "net.toggle_physics(True)\n",
    "# net.show_buttons()\n",
    "# net.show('mygraph.html')\n",
    "\n",
    "# net.show_buttons(filter_=['physics'])\n",
    "options = \"\"\"\n",
    "var options = {\n",
    "  \"configure\": {\n",
    "        \"enabled\": true\n",
    "   },\n",
    "  \"physics\": {\n",
    "    \"springLength\": 100\n",
    "  }\n",
    "}\n",
    "\"\"\"\n",
    "net.set_options(options)\n",
    "net.show('graph_img.html')"
   ]
  }
 ],
 "metadata": {
  "kernelspec": {
   "display_name": "Python 3 (ipykernel)",
   "language": "python",
   "name": "python3"
  },
  "language_info": {
   "codemirror_mode": {
    "name": "ipython",
    "version": 3
   },
   "file_extension": ".py",
   "mimetype": "text/x-python",
   "name": "python",
   "nbconvert_exporter": "python",
   "pygments_lexer": "ipython3",
   "version": "3.7.11"
  },
  "toc": {
   "base_numbering": 1,
   "nav_menu": {},
   "number_sections": true,
   "sideBar": true,
   "skip_h1_title": false,
   "title_cell": "Table of Contents",
   "title_sidebar": "Contents",
   "toc_cell": false,
   "toc_position": {},
   "toc_section_display": true,
   "toc_window_display": false
  },
  "varInspector": {
   "cols": {
    "lenName": 16,
    "lenType": 16,
    "lenVar": 40
   },
   "kernels_config": {
    "python": {
     "delete_cmd_postfix": "",
     "delete_cmd_prefix": "del ",
     "library": "var_list.py",
     "varRefreshCmd": "print(var_dic_list())"
    },
    "r": {
     "delete_cmd_postfix": ") ",
     "delete_cmd_prefix": "rm(",
     "library": "var_list.r",
     "varRefreshCmd": "cat(var_dic_list()) "
    }
   },
   "types_to_exclude": [
    "module",
    "function",
    "builtin_function_or_method",
    "instance",
    "_Feature"
   ],
   "window_display": false
  }
 },
 "nbformat": 4,
 "nbformat_minor": 5
}
